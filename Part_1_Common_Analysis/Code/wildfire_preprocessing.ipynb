{
 "cells": [
  {
   "cell_type": "markdown",
   "metadata": {},
   "source": [
    "### License\n",
    "This codes of functions was developed by Dr. David W. McDonald for use in DATA 512, a course in the UW MS Data Science degree program. This code is provided under the [Creative Commons](https://creativecommons.org) [CC-BY license](https://creativecommons.org/licenses/by/4.0/). Revision 1.0 - August 13, 2023"
   ]
  },
  {
   "cell_type": "code",
   "execution_count": 1,
   "metadata": {},
   "outputs": [],
   "source": [
    "\n",
    "import os, json, time\n",
    "from pyproj import Transformer, Geod\n",
    "# from wildfire.Reader import Reader as WFReader"
   ]
  },
  {
   "cell_type": "code",
   "execution_count": 2,
   "metadata": {},
   "outputs": [],
   "source": [
    "import pandas as pd\n",
    "\n",
    "with open('USGS_Wildland_Fire_Combined_Dataset.json') as json_data:\n",
    "    data = json.load(json_data)\n",
    "    df_features = pd.DataFrame(data['features'])"
   ]
  },
  {
   "cell_type": "code",
   "execution_count": 3,
   "metadata": {},
   "outputs": [
    {
     "data": {
      "text/plain": [
       "(135061, 2)"
      ]
     },
     "execution_count": 3,
     "metadata": {},
     "output_type": "execute_result"
    }
   ],
   "source": [
    "df_features.shape"
   ]
  },
  {
   "cell_type": "markdown",
   "metadata": {},
   "source": [
    "After normalizing the columns in the original dataset to 2 DataFrames, we combine the DataFrames of attributes and geometry of fires into one large DataFrame\n",
    "\n",
    "Further, we extract fires happened between 1963 and 2023."
   ]
  },
  {
   "cell_type": "code",
   "execution_count": 4,
   "metadata": {},
   "outputs": [
    {
     "name": "stderr",
     "output_type": "stream",
     "text": [
      "/var/folders/by/rkypwrwj5mg3f381qttxh0s400vssn/T/ipykernel_1367/2926258376.py:4: UserWarning: Boolean Series key will be reindexed to match DataFrame index.\n",
      "  df = df[df['Fire_Year']>=1963][df['Fire_Year']<=2023].reset_index(drop=True)\n"
     ]
    },
    {
     "data": {
      "text/plain": [
       "(117578, 32)"
      ]
     },
     "execution_count": 4,
     "metadata": {},
     "output_type": "execute_result"
    }
   ],
   "source": [
    "df1 = pd.json_normalize(df_features['attributes'])\n",
    "df2 = pd.json_normalize(df_features['geometry'])\n",
    "df = pd.concat([df1, df2.reindex(df1.index)], axis=1)\n",
    "df = df[df['Fire_Year']>=1963][df['Fire_Year']<=2023].reset_index(drop=True)\n",
    "df.shape"
   ]
  },
  {
   "cell_type": "code",
   "execution_count": 5,
   "metadata": {},
   "outputs": [],
   "source": [
    "# the lat and lon of the city\n",
    "\n",
    "CITY_LOCATIONS = {\n",
    "    'Alamogordo' :     {'city'   : 'Alamogordo',\n",
    "                       'latlon' : [32.8995325, -105.96026499999999] }}"
   ]
  },
  {
   "cell_type": "code",
   "execution_count": 12,
   "metadata": {},
   "outputs": [
    {
     "data": {
      "text/plain": [
       "OBJECTID                             0\n",
       "USGS_Assigned_ID                     0\n",
       "Assigned_Fire_Type                   0\n",
       "Fire_Year                            0\n",
       "Fire_Polygon_Tier                    0\n",
       "Fire_Attribute_Tiers                 0\n",
       "GIS_Acres                            0\n",
       "GIS_Hectares                         0\n",
       "Source_Datasets                      0\n",
       "Listed_Fire_Types                    0\n",
       "Listed_Fire_Names                    0\n",
       "Listed_Fire_Codes                    0\n",
       "Listed_Fire_IDs                    824\n",
       "Listed_Fire_IRWIN_IDs            36413\n",
       "Listed_Fire_Dates                  300\n",
       "Listed_Fire_Causes                   0\n",
       "Listed_Fire_Cause_Class              0\n",
       "Listed_Rx_Reported_Acres         92573\n",
       "Listed_Map_Digitize_Methods      13307\n",
       "Listed_Notes                     35534\n",
       "Processing_Notes                 32921\n",
       "Wildfire_Notice                      0\n",
       "Prescribed_Burn_Notice               0\n",
       "Wildfire_and_Rx_Flag            115734\n",
       "Overlap_Within_1_or_2_Flag      101353\n",
       "Circleness_Scale                     0\n",
       "Circle_Flag                     108574\n",
       "Exclude_From_Summary_Rasters         0\n",
       "Shape_Length                         0\n",
       "Shape_Area                           0\n",
       "rings                               35\n",
       "curveRings                      117543\n",
       "dtype: int64"
      ]
     },
     "execution_count": 12,
     "metadata": {},
     "output_type": "execute_result"
    }
   ],
   "source": [
    "df.isna().sum()"
   ]
  },
  {
   "cell_type": "code",
   "execution_count": 14,
   "metadata": {},
   "outputs": [
    {
     "data": {
      "text/plain": [
       "Index([ 92237,  92856,  93271,  94063,  94408,  94529,  95042,  95047,  96043,\n",
       "        96297,  96370,  96398,  96437,  96941,  96954,  98261,  98606,  98867,\n",
       "        99718, 102214, 102249, 102383, 102614, 102844, 103063, 103310, 103375,\n",
       "       103642, 104896, 105163, 106393, 107167, 107678, 108377, 110124],\n",
       "      dtype='int64')"
      ]
     },
     "execution_count": 14,
     "metadata": {},
     "output_type": "execute_result"
    }
   ],
   "source": [
    "# remove the rings that are of null value\n",
    "\n",
    "null_ring = df[df['rings'].isna()].index\n",
    "null_ring"
   ]
  },
  {
   "cell_type": "code",
   "execution_count": 15,
   "metadata": {},
   "outputs": [
    {
     "data": {
      "text/plain": [
       "(117543, 32)"
      ]
     },
     "execution_count": 15,
     "metadata": {},
     "output_type": "execute_result"
    }
   ],
   "source": [
    "df = df.drop(null_ring, axis=0)\n",
    "df.shape"
   ]
  },
  {
   "cell_type": "code",
   "execution_count": 16,
   "metadata": {},
   "outputs": [],
   "source": [
    "df = df.reset_index(drop=True)"
   ]
  },
  {
   "cell_type": "code",
   "execution_count": 17,
   "metadata": {},
   "outputs": [
    {
     "data": {
      "text/plain": [
       "1133"
      ]
     },
     "execution_count": 17,
     "metadata": {},
     "output_type": "execute_result"
    }
   ],
   "source": [
    "# extract the largest ring from rings to do further calculations\n",
    "\n",
    "f = lambda x : x[0]\n",
    "biggest_ring = []\n",
    "float_ring = []\n",
    "for ring in df['rings']:\n",
    "    # try:\n",
    "    biggest_ring.append(f(ring))\n",
    "    # except:\n",
    "    #     biggest_ring.append(ring)\n",
    "    #     float_ring.append(ring)\n",
    "len(biggest_ring[0])"
   ]
  },
  {
   "cell_type": "code",
   "execution_count": 18,
   "metadata": {},
   "outputs": [],
   "source": [
    "df['biggest_ring'] = pd.Series(biggest_ring)"
   ]
  },
  {
   "cell_type": "code",
   "execution_count": 19,
   "metadata": {},
   "outputs": [
    {
     "name": "stdout",
     "output_type": "stream",
     "text": [
      "Straight line distance from Alamogordo to Alamogordo is 0.0 meters or  0.00 miles\n"
     ]
    }
   ],
   "source": [
    "#\n",
    "#    First create a geodesic model that will be used for the calculations. There are a number of\n",
    "#    different models of the earth. The WSG84 is one that is commonly used and relatively up-to-date\n",
    "#\n",
    "#geodcalc = Geod(ellps='clrk66')       # Use Clarke 1866 ellipsoid representation of the earth\n",
    "geodcalc = Geod(ellps='WGS84')         # Use WGS84 ellipsoid representation of the earth\n",
    "\n",
    "#    Two constants for accessing the 'latlon' array in our CITY_LOCATIONS constant dict\n",
    "LAT = 0\n",
    "LON = 1\n",
    "#    Get a city from our CITY_LOCATIONS constant as our starting position\n",
    "start_at = CITY_LOCATIONS[\"Alamogordo\"]\n",
    "\n",
    "#    Loop through all of the cities to calculate the distance from the starting position\n",
    "for city_key in CITY_LOCATIONS.keys():\n",
    "    #    City destination\n",
    "    destination = CITY_LOCATIONS[city_key]\n",
    "    #    Note that the 'inv()' function wants coordinates in Longitude,Latitude order by default\n",
    "    #    inv() also allows lat and lon parameters to be vectors/arrays - in which case the results would be vector/arrarys\n",
    "    distance = geodcalc.inv(start_at['latlon'][LON],start_at['latlon'][LAT],destination['latlon'][LON],destination['latlon'][LAT])\n",
    "    #    The 'distance' result variable is a tuple/list with the first two items reflecting forward/backward azimuths\n",
    "    #    and the third item representing the distance in meters. \n",
    "    d_meters = distance[2]\n",
    "    d_miles = d_meters * 0.00062137 # constant to convert meters to miles\n",
    "    #    BTW, this isn't actually a 'straight' line because the whole reason for using pyproj is to calculate\n",
    "    #    these distance measures over the surfase of a sphere/ellipsoid. We set up which ellipsoid to use when we\n",
    "    #    defined the 'geodcalc' object near the top of this cell\n",
    "    print(f\"Straight line distance from {start_at['city']} to {destination['city']} is {d_meters} meters or {d_miles:5.2f} miles\")\n",
    "\n"
   ]
  },
  {
   "cell_type": "code",
   "execution_count": 20,
   "metadata": {},
   "outputs": [],
   "source": [
    "#\n",
    "#    Transform feature geometry data\n",
    "#\n",
    "#    The function takes one parameter, a list of ESRI:102008 coordinates that will be transformed to EPSG:4326\n",
    "#    The function returns a list of coordinates in EPSG:4326\n",
    "def convert_ring_to_epsg4326(ring_data=None):\n",
    "    converted_ring = list()\n",
    "    #\n",
    "    # We use a pyproj transformer that converts from ESRI:102008 to EPSG:4326 to transform the list of coordinates\n",
    "    to_epsg4326 = Transformer.from_crs(\"ESRI:102008\",\"EPSG:4326\")\n",
    "    # We'll run through the list transforming each ESRI:102008 x,y coordinate into a decimal degree lat,lon\n",
    "    for coord in ring_data:\n",
    "        lat,lon = to_epsg4326.transform(coord[0],coord[1])\n",
    "        new_coord = lat,lon\n",
    "        converted_ring.append(new_coord)\n",
    "    return converted_ring"
   ]
  },
  {
   "cell_type": "code",
   "execution_count": 21,
   "metadata": {},
   "outputs": [
    {
     "name": "stdout",
     "output_type": "stream",
     "text": [
      "Ring consists of 1133 points.\n"
     ]
    }
   ],
   "source": [
    "#\n",
    "#   Convert one ring from the default to EPSG\n",
    "#\n",
    "#   There are two options here - depending upon whether you loaded data useing GeoJSON or the wildfire.Reader\n",
    "#\n",
    "#ring_in_epsg4326 = convert_ring_to_epsg4326(gj_bigest_ring)\n",
    "#\n",
    "ring_in_epsg4326 = convert_ring_to_epsg4326(df['biggest_ring'][0])\n",
    "#\n",
    "print(f\"Ring consists of {len(ring_in_epsg4326)} points.\")\n",
    "#\n",
    "#    If you want to print them out you can see what they look like converted.\n",
    "#print(ring_in_epsg4326)\n",
    "#for point in ring_in_epsg4326:\n",
    "#    print(f\"{point[0]},{point[1]}\")\n"
   ]
  },
  {
   "cell_type": "code",
   "execution_count": 22,
   "metadata": {},
   "outputs": [],
   "source": [
    "#    \n",
    "#    The function takes two parameters\n",
    "#        A place - which is coordinate point (list or tuple with two items, (lat,lon) in decimal degrees EPSG:4326\n",
    "#        Ring_data - a list of decimal degree coordinates for the fire boundary\n",
    "#\n",
    "#    The function returns the average miles from boundary to the place\n",
    "#\n",
    "def average_distance_from_place_to_fire_perimeter(place=None,ring_data=None):\n",
    "    # convert the ring data to the right coordinate system\n",
    "    ring = convert_ring_to_epsg4326(ring_data)    \n",
    "    # create a epsg4326 compliant object - which is what the WGS84 ellipsoid is\n",
    "    geodcalc = Geod(ellps='WGS84')\n",
    "    # create a list to store our results\n",
    "    distances_in_meters = list()\n",
    "    # run through each point in the converted ring data\n",
    "    for point in ring:\n",
    "        # calculate the distance\n",
    "        d = geodcalc.inv(place[1],place[0],point[1],point[0])\n",
    "        distances_in_meters.append(d[2])\n",
    "    #print(\"Got the following list:\",distances_in_meters)\n",
    "    # convert meters to miles\n",
    "    distances_in_miles = [meters*0.00062137 for meters in distances_in_meters]\n",
    "    # the esri polygon shape (the ring) requires that the first and last coordinates be identical to 'close the region\n",
    "    # we remove one of them so that we don't bias our average by having two of the same point\n",
    "    distances_in_miles_no_dup = distances_in_miles[1:]\n",
    "    # now, average miles\n",
    "    average = sum(distances_in_miles_no_dup)/len(distances_in_miles_no_dup)\n",
    "    return average\n",
    "\n"
   ]
  },
  {
   "cell_type": "code",
   "execution_count": 28,
   "metadata": {},
   "outputs": [],
   "source": [
    "def average_distance_from_place_to_fire_perimeter2(place=None,ring_data=None):\n",
    "    # convert the ring data to the right coordinate system\n",
    "    ring = convert_ring_to_epsg4326(ring_data)    \n",
    "    len_of_ring = len(ring)\n",
    "    # create a epsg4326 compliant object - which is what the WGS84 ellipsoid is\n",
    "    \n",
    "    # create a list to store our results\n",
    "    distances_in_meters = list()\n",
    "    # run through each point in the converted ring data\n",
    "    s = 0\n",
    "    for i in range(len_of_ring-1):\n",
    "        # calculate the distance\n",
    "        d = geodcalc.inv(place[1],place[0],ring[i][1],ring[i][0])\n",
    "        s += d[2]*0.00062137\n",
    "    average = s/(len_of_ring-1)\n",
    "    return average"
   ]
  },
  {
   "cell_type": "markdown",
   "metadata": {},
   "source": [
    "We are using the average distance between city to fire to determine the distance because we believe there will hardly be many immediate impacts on the city otherwise. To make things easier for Part II and to better investigate impacts, we choose average distance."
   ]
  },
  {
   "cell_type": "code",
   "execution_count": 29,
   "metadata": {},
   "outputs": [
    {
     "name": "stderr",
     "output_type": "stream",
     "text": [
      "100%|██████████| 117543/117543 [32:56<00:00, 59.46it/s]\n"
     ]
    },
    {
     "data": {
      "text/html": [
       "<div>\n",
       "<style scoped>\n",
       "    .dataframe tbody tr th:only-of-type {\n",
       "        vertical-align: middle;\n",
       "    }\n",
       "\n",
       "    .dataframe tbody tr th {\n",
       "        vertical-align: top;\n",
       "    }\n",
       "\n",
       "    .dataframe thead th {\n",
       "        text-align: right;\n",
       "    }\n",
       "</style>\n",
       "<table border=\"1\" class=\"dataframe\">\n",
       "  <thead>\n",
       "    <tr style=\"text-align: right;\">\n",
       "      <th></th>\n",
       "      <th>OBJECTID</th>\n",
       "      <th>USGS_Assigned_ID</th>\n",
       "      <th>Assigned_Fire_Type</th>\n",
       "      <th>Fire_Year</th>\n",
       "      <th>Fire_Polygon_Tier</th>\n",
       "      <th>Fire_Attribute_Tiers</th>\n",
       "      <th>GIS_Acres</th>\n",
       "      <th>GIS_Hectares</th>\n",
       "      <th>Source_Datasets</th>\n",
       "      <th>Listed_Fire_Types</th>\n",
       "      <th>...</th>\n",
       "      <th>Overlap_Within_1_or_2_Flag</th>\n",
       "      <th>Circleness_Scale</th>\n",
       "      <th>Circle_Flag</th>\n",
       "      <th>Exclude_From_Summary_Rasters</th>\n",
       "      <th>Shape_Length</th>\n",
       "      <th>Shape_Area</th>\n",
       "      <th>rings</th>\n",
       "      <th>curveRings</th>\n",
       "      <th>biggest_ring</th>\n",
       "      <th>avg_distance (miles)</th>\n",
       "    </tr>\n",
       "  </thead>\n",
       "  <tbody>\n",
       "    <tr>\n",
       "      <th>0</th>\n",
       "      <td>14299</td>\n",
       "      <td>14299</td>\n",
       "      <td>Wildfire</td>\n",
       "      <td>1963</td>\n",
       "      <td>1</td>\n",
       "      <td>1 (1), 3 (3)</td>\n",
       "      <td>40992.458271</td>\n",
       "      <td>16589.059302</td>\n",
       "      <td>Comb_National_NIFC_Interagency_Fire_Perimeter_...</td>\n",
       "      <td>Wildfire (1), Likely Wildfire (3)</td>\n",
       "      <td>...</td>\n",
       "      <td>None</td>\n",
       "      <td>0.385355</td>\n",
       "      <td>NaN</td>\n",
       "      <td>No</td>\n",
       "      <td>73550.428118</td>\n",
       "      <td>1.658906e+08</td>\n",
       "      <td>[[[-1538222.6155999992, 664547.1687000003], [-...</td>\n",
       "      <td>NaN</td>\n",
       "      <td>[[-1538222.6155999992, 664547.1687000003], [-1...</td>\n",
       "      <td>972.589109</td>\n",
       "    </tr>\n",
       "    <tr>\n",
       "      <th>1</th>\n",
       "      <td>14300</td>\n",
       "      <td>14300</td>\n",
       "      <td>Wildfire</td>\n",
       "      <td>1963</td>\n",
       "      <td>1</td>\n",
       "      <td>1 (1), 3 (3)</td>\n",
       "      <td>25757.090203</td>\n",
       "      <td>10423.524591</td>\n",
       "      <td>Comb_National_NIFC_Interagency_Fire_Perimeter_...</td>\n",
       "      <td>Wildfire (2), Likely Wildfire (2)</td>\n",
       "      <td>...</td>\n",
       "      <td>None</td>\n",
       "      <td>0.364815</td>\n",
       "      <td>NaN</td>\n",
       "      <td>No</td>\n",
       "      <td>59920.576713</td>\n",
       "      <td>1.042352e+08</td>\n",
       "      <td>[[[-1561373.1005000006, 710862.5734999999], [-...</td>\n",
       "      <td>NaN</td>\n",
       "      <td>[[-1561373.1005000006, 710862.5734999999], [-1...</td>\n",
       "      <td>999.009827</td>\n",
       "    </tr>\n",
       "    <tr>\n",
       "      <th>2</th>\n",
       "      <td>14301</td>\n",
       "      <td>14301</td>\n",
       "      <td>Wildfire</td>\n",
       "      <td>1963</td>\n",
       "      <td>1</td>\n",
       "      <td>1 (5), 3 (15), 5 (1)</td>\n",
       "      <td>45527.210986</td>\n",
       "      <td>18424.208617</td>\n",
       "      <td>Comb_National_NIFC_Interagency_Fire_Perimeter_...</td>\n",
       "      <td>Wildfire (6), Likely Wildfire (15)</td>\n",
       "      <td>...</td>\n",
       "      <td>None</td>\n",
       "      <td>0.320927</td>\n",
       "      <td>NaN</td>\n",
       "      <td>No</td>\n",
       "      <td>84936.827810</td>\n",
       "      <td>1.842421e+08</td>\n",
       "      <td>[[[-1516651.6959000006, 689701.9166000001], [-...</td>\n",
       "      <td>NaN</td>\n",
       "      <td>[[-1516651.6959000006, 689701.9166000001], [-1...</td>\n",
       "      <td>972.496058</td>\n",
       "    </tr>\n",
       "    <tr>\n",
       "      <th>3</th>\n",
       "      <td>14302</td>\n",
       "      <td>14302</td>\n",
       "      <td>Wildfire</td>\n",
       "      <td>1963</td>\n",
       "      <td>1</td>\n",
       "      <td>1 (1), 3 (3), 5 (1)</td>\n",
       "      <td>10395.010334</td>\n",
       "      <td>4206.711433</td>\n",
       "      <td>Comb_National_NIFC_Interagency_Fire_Perimeter_...</td>\n",
       "      <td>Wildfire (2), Likely Wildfire (3)</td>\n",
       "      <td>...</td>\n",
       "      <td>None</td>\n",
       "      <td>0.428936</td>\n",
       "      <td>NaN</td>\n",
       "      <td>No</td>\n",
       "      <td>35105.903602</td>\n",
       "      <td>4.206711e+07</td>\n",
       "      <td>[[[-1495760.2166000009, 539132.1772000007], [-...</td>\n",
       "      <td>NaN</td>\n",
       "      <td>[[-1495760.2166000009, 539132.1772000007], [-1...</td>\n",
       "      <td>888.681551</td>\n",
       "    </tr>\n",
       "    <tr>\n",
       "      <th>4</th>\n",
       "      <td>14303</td>\n",
       "      <td>14303</td>\n",
       "      <td>Wildfire</td>\n",
       "      <td>1963</td>\n",
       "      <td>1</td>\n",
       "      <td>1 (1), 3 (3)</td>\n",
       "      <td>9983.605738</td>\n",
       "      <td>4040.221900</td>\n",
       "      <td>Comb_National_NIFC_Interagency_Fire_Perimeter_...</td>\n",
       "      <td>Wildfire (1), Likely Wildfire (3)</td>\n",
       "      <td>...</td>\n",
       "      <td>None</td>\n",
       "      <td>0.703178</td>\n",
       "      <td>NaN</td>\n",
       "      <td>No</td>\n",
       "      <td>26870.456126</td>\n",
       "      <td>4.040222e+07</td>\n",
       "      <td>[[[-1520641.9629999995, 654341.4522999991], [-...</td>\n",
       "      <td>NaN</td>\n",
       "      <td>[[-1520641.9629999995, 654341.4522999991], [-1...</td>\n",
       "      <td>956.661335</td>\n",
       "    </tr>\n",
       "    <tr>\n",
       "      <th>...</th>\n",
       "      <td>...</td>\n",
       "      <td>...</td>\n",
       "      <td>...</td>\n",
       "      <td>...</td>\n",
       "      <td>...</td>\n",
       "      <td>...</td>\n",
       "      <td>...</td>\n",
       "      <td>...</td>\n",
       "      <td>...</td>\n",
       "      <td>...</td>\n",
       "      <td>...</td>\n",
       "      <td>...</td>\n",
       "      <td>...</td>\n",
       "      <td>...</td>\n",
       "      <td>...</td>\n",
       "      <td>...</td>\n",
       "      <td>...</td>\n",
       "      <td>...</td>\n",
       "      <td>...</td>\n",
       "      <td>...</td>\n",
       "      <td>...</td>\n",
       "    </tr>\n",
       "    <tr>\n",
       "      <th>117538</th>\n",
       "      <td>135057</td>\n",
       "      <td>135057</td>\n",
       "      <td>Prescribed Fire</td>\n",
       "      <td>2020</td>\n",
       "      <td>8</td>\n",
       "      <td>8 (3)</td>\n",
       "      <td>16.412148</td>\n",
       "      <td>6.641761</td>\n",
       "      <td>Comb_National_Rx_Only_BLM_VTRT_Prescribed_Fire...</td>\n",
       "      <td>Prescribed Fire (3)</td>\n",
       "      <td>...</td>\n",
       "      <td>Caution, this Prescribed Fire in 2020 overlaps...</td>\n",
       "      <td>0.177425</td>\n",
       "      <td>NaN</td>\n",
       "      <td>No</td>\n",
       "      <td>2168.900740</td>\n",
       "      <td>6.641761e+04</td>\n",
       "      <td>[[[-2008802.4960999992, 729335.5622000005], [-...</td>\n",
       "      <td>NaN</td>\n",
       "      <td>[[-2008802.4960999992, 729335.5622000005], [-2...</td>\n",
       "      <td>1181.649834</td>\n",
       "    </tr>\n",
       "    <tr>\n",
       "      <th>117539</th>\n",
       "      <td>135058</td>\n",
       "      <td>135058</td>\n",
       "      <td>Prescribed Fire</td>\n",
       "      <td>2020</td>\n",
       "      <td>8</td>\n",
       "      <td>8 (1)</td>\n",
       "      <td>7.050837</td>\n",
       "      <td>2.853373</td>\n",
       "      <td>Comb_National_Rx_Only_BLM_VTRT_Prescribed_Fire...</td>\n",
       "      <td>Prescribed Fire (1)</td>\n",
       "      <td>...</td>\n",
       "      <td>Caution, this Prescribed Fire in 2020 overlaps...</td>\n",
       "      <td>0.374368</td>\n",
       "      <td>NaN</td>\n",
       "      <td>No</td>\n",
       "      <td>978.666221</td>\n",
       "      <td>2.853373e+04</td>\n",
       "      <td>[[[-1648510.3187000006, 666410.7272999994], [-...</td>\n",
       "      <td>NaN</td>\n",
       "      <td>[[-1648510.3187000006, 666410.7272999994], [-1...</td>\n",
       "      <td>1007.002978</td>\n",
       "    </tr>\n",
       "    <tr>\n",
       "      <th>117540</th>\n",
       "      <td>135059</td>\n",
       "      <td>135059</td>\n",
       "      <td>Prescribed Fire</td>\n",
       "      <td>2020</td>\n",
       "      <td>8</td>\n",
       "      <td>8 (4)</td>\n",
       "      <td>9.342668</td>\n",
       "      <td>3.780843</td>\n",
       "      <td>Comb_National_Rx_Only_BLM_VTRT_Prescribed_Fire...</td>\n",
       "      <td>Prescribed Fire (4)</td>\n",
       "      <td>...</td>\n",
       "      <td>Caution, this Prescribed Fire in 2020 overlaps...</td>\n",
       "      <td>0.123888</td>\n",
       "      <td>NaN</td>\n",
       "      <td>No</td>\n",
       "      <td>1958.326660</td>\n",
       "      <td>3.780843e+04</td>\n",
       "      <td>[[[-1649244.5655000005, 664993.7576000001], [-...</td>\n",
       "      <td>NaN</td>\n",
       "      <td>[[-1649244.5655000005, 664993.7576000001], [-1...</td>\n",
       "      <td>1006.448344</td>\n",
       "    </tr>\n",
       "    <tr>\n",
       "      <th>117541</th>\n",
       "      <td>135060</td>\n",
       "      <td>135060</td>\n",
       "      <td>Prescribed Fire</td>\n",
       "      <td>2020</td>\n",
       "      <td>8</td>\n",
       "      <td>8 (1)</td>\n",
       "      <td>0.996962</td>\n",
       "      <td>0.403456</td>\n",
       "      <td>Comb_National_Rx_Only_BLM_VTRT_Prescribed_Fire...</td>\n",
       "      <td>Prescribed Fire (1)</td>\n",
       "      <td>...</td>\n",
       "      <td>None</td>\n",
       "      <td>0.993809</td>\n",
       "      <td>1.0</td>\n",
       "      <td>No</td>\n",
       "      <td>225.866452</td>\n",
       "      <td>4.034562e+03</td>\n",
       "      <td>[[[-1017808.4253000002, 140344.1116000004], [-...</td>\n",
       "      <td>NaN</td>\n",
       "      <td>[[-1017808.4253000002, 140344.1116000004], [-1...</td>\n",
       "      <td>554.443228</td>\n",
       "    </tr>\n",
       "    <tr>\n",
       "      <th>117542</th>\n",
       "      <td>135061</td>\n",
       "      <td>135061</td>\n",
       "      <td>Prescribed Fire</td>\n",
       "      <td>2020</td>\n",
       "      <td>8</td>\n",
       "      <td>8 (1)</td>\n",
       "      <td>0.969953</td>\n",
       "      <td>0.392526</td>\n",
       "      <td>Comb_National_Rx_Only_BLM_VTRT_Prescribed_Fire...</td>\n",
       "      <td>Prescribed Fire (1)</td>\n",
       "      <td>...</td>\n",
       "      <td>Caution, this Prescribed Fire in 2020 overlaps...</td>\n",
       "      <td>0.744794</td>\n",
       "      <td>NaN</td>\n",
       "      <td>No</td>\n",
       "      <td>257.348237</td>\n",
       "      <td>3.925261e+03</td>\n",
       "      <td>[[[-1994383.9828999992, 795857.6010999996], [-...</td>\n",
       "      <td>NaN</td>\n",
       "      <td>[[-1994383.9828999992, 795857.6010999996], [-1...</td>\n",
       "      <td>1206.618872</td>\n",
       "    </tr>\n",
       "  </tbody>\n",
       "</table>\n",
       "<p>117543 rows × 34 columns</p>\n",
       "</div>"
      ],
      "text/plain": [
       "        OBJECTID  USGS_Assigned_ID Assigned_Fire_Type  Fire_Year   \n",
       "0          14299             14299           Wildfire       1963  \\\n",
       "1          14300             14300           Wildfire       1963   \n",
       "2          14301             14301           Wildfire       1963   \n",
       "3          14302             14302           Wildfire       1963   \n",
       "4          14303             14303           Wildfire       1963   \n",
       "...          ...               ...                ...        ...   \n",
       "117538    135057            135057    Prescribed Fire       2020   \n",
       "117539    135058            135058    Prescribed Fire       2020   \n",
       "117540    135059            135059    Prescribed Fire       2020   \n",
       "117541    135060            135060    Prescribed Fire       2020   \n",
       "117542    135061            135061    Prescribed Fire       2020   \n",
       "\n",
       "        Fire_Polygon_Tier  Fire_Attribute_Tiers     GIS_Acres  GIS_Hectares   \n",
       "0                       1          1 (1), 3 (3)  40992.458271  16589.059302  \\\n",
       "1                       1          1 (1), 3 (3)  25757.090203  10423.524591   \n",
       "2                       1  1 (5), 3 (15), 5 (1)  45527.210986  18424.208617   \n",
       "3                       1   1 (1), 3 (3), 5 (1)  10395.010334   4206.711433   \n",
       "4                       1          1 (1), 3 (3)   9983.605738   4040.221900   \n",
       "...                   ...                   ...           ...           ...   \n",
       "117538                  8                 8 (3)     16.412148      6.641761   \n",
       "117539                  8                 8 (1)      7.050837      2.853373   \n",
       "117540                  8                 8 (4)      9.342668      3.780843   \n",
       "117541                  8                 8 (1)      0.996962      0.403456   \n",
       "117542                  8                 8 (1)      0.969953      0.392526   \n",
       "\n",
       "                                          Source_Datasets   \n",
       "0       Comb_National_NIFC_Interagency_Fire_Perimeter_...  \\\n",
       "1       Comb_National_NIFC_Interagency_Fire_Perimeter_...   \n",
       "2       Comb_National_NIFC_Interagency_Fire_Perimeter_...   \n",
       "3       Comb_National_NIFC_Interagency_Fire_Perimeter_...   \n",
       "4       Comb_National_NIFC_Interagency_Fire_Perimeter_...   \n",
       "...                                                   ...   \n",
       "117538  Comb_National_Rx_Only_BLM_VTRT_Prescribed_Fire...   \n",
       "117539  Comb_National_Rx_Only_BLM_VTRT_Prescribed_Fire...   \n",
       "117540  Comb_National_Rx_Only_BLM_VTRT_Prescribed_Fire...   \n",
       "117541  Comb_National_Rx_Only_BLM_VTRT_Prescribed_Fire...   \n",
       "117542  Comb_National_Rx_Only_BLM_VTRT_Prescribed_Fire...   \n",
       "\n",
       "                         Listed_Fire_Types  ...   \n",
       "0        Wildfire (1), Likely Wildfire (3)  ...  \\\n",
       "1        Wildfire (2), Likely Wildfire (2)  ...   \n",
       "2       Wildfire (6), Likely Wildfire (15)  ...   \n",
       "3        Wildfire (2), Likely Wildfire (3)  ...   \n",
       "4        Wildfire (1), Likely Wildfire (3)  ...   \n",
       "...                                    ...  ...   \n",
       "117538                 Prescribed Fire (3)  ...   \n",
       "117539                 Prescribed Fire (1)  ...   \n",
       "117540                 Prescribed Fire (4)  ...   \n",
       "117541                 Prescribed Fire (1)  ...   \n",
       "117542                 Prescribed Fire (1)  ...   \n",
       "\n",
       "                               Overlap_Within_1_or_2_Flag Circleness_Scale   \n",
       "0                                                    None         0.385355  \\\n",
       "1                                                    None         0.364815   \n",
       "2                                                    None         0.320927   \n",
       "3                                                    None         0.428936   \n",
       "4                                                    None         0.703178   \n",
       "...                                                   ...              ...   \n",
       "117538  Caution, this Prescribed Fire in 2020 overlaps...         0.177425   \n",
       "117539  Caution, this Prescribed Fire in 2020 overlaps...         0.374368   \n",
       "117540  Caution, this Prescribed Fire in 2020 overlaps...         0.123888   \n",
       "117541                                               None         0.993809   \n",
       "117542  Caution, this Prescribed Fire in 2020 overlaps...         0.744794   \n",
       "\n",
       "       Circle_Flag Exclude_From_Summary_Rasters  Shape_Length    Shape_Area   \n",
       "0              NaN                           No  73550.428118  1.658906e+08  \\\n",
       "1              NaN                           No  59920.576713  1.042352e+08   \n",
       "2              NaN                           No  84936.827810  1.842421e+08   \n",
       "3              NaN                           No  35105.903602  4.206711e+07   \n",
       "4              NaN                           No  26870.456126  4.040222e+07   \n",
       "...            ...                          ...           ...           ...   \n",
       "117538         NaN                           No   2168.900740  6.641761e+04   \n",
       "117539         NaN                           No    978.666221  2.853373e+04   \n",
       "117540         NaN                           No   1958.326660  3.780843e+04   \n",
       "117541         1.0                           No    225.866452  4.034562e+03   \n",
       "117542         NaN                           No    257.348237  3.925261e+03   \n",
       "\n",
       "                                                    rings curveRings   \n",
       "0       [[[-1538222.6155999992, 664547.1687000003], [-...        NaN  \\\n",
       "1       [[[-1561373.1005000006, 710862.5734999999], [-...        NaN   \n",
       "2       [[[-1516651.6959000006, 689701.9166000001], [-...        NaN   \n",
       "3       [[[-1495760.2166000009, 539132.1772000007], [-...        NaN   \n",
       "4       [[[-1520641.9629999995, 654341.4522999991], [-...        NaN   \n",
       "...                                                   ...        ...   \n",
       "117538  [[[-2008802.4960999992, 729335.5622000005], [-...        NaN   \n",
       "117539  [[[-1648510.3187000006, 666410.7272999994], [-...        NaN   \n",
       "117540  [[[-1649244.5655000005, 664993.7576000001], [-...        NaN   \n",
       "117541  [[[-1017808.4253000002, 140344.1116000004], [-...        NaN   \n",
       "117542  [[[-1994383.9828999992, 795857.6010999996], [-...        NaN   \n",
       "\n",
       "                                             biggest_ring avg_distance (miles)  \n",
       "0       [[-1538222.6155999992, 664547.1687000003], [-1...           972.589109  \n",
       "1       [[-1561373.1005000006, 710862.5734999999], [-1...           999.009827  \n",
       "2       [[-1516651.6959000006, 689701.9166000001], [-1...           972.496058  \n",
       "3       [[-1495760.2166000009, 539132.1772000007], [-1...           888.681551  \n",
       "4       [[-1520641.9629999995, 654341.4522999991], [-1...           956.661335  \n",
       "...                                                   ...                  ...  \n",
       "117538  [[-2008802.4960999992, 729335.5622000005], [-2...          1181.649834  \n",
       "117539  [[-1648510.3187000006, 666410.7272999994], [-1...          1007.002978  \n",
       "117540  [[-1649244.5655000005, 664993.7576000001], [-1...          1006.448344  \n",
       "117541  [[-1017808.4253000002, 140344.1116000004], [-1...           554.443228  \n",
       "117542  [[-1994383.9828999992, 795857.6010999996], [-1...          1206.618872  \n",
       "\n",
       "[117543 rows x 34 columns]"
      ]
     },
     "execution_count": 29,
     "metadata": {},
     "output_type": "execute_result"
    }
   ],
   "source": [
    "from tqdm import tqdm\n",
    "geodcalc = Geod(ellps='WGS84')\n",
    "#    Get a city from our CITY_LOCATIONS constant as our starting position\n",
    "place = CITY_LOCATIONS[\"Alamogordo\"]\n",
    "latlon = place['latlon']\n",
    "dist = []\n",
    "for i in tqdm(range(df.shape[0])):\n",
    "    ring_data = df.iloc[i]['biggest_ring']\n",
    "    distance = average_distance_from_place_to_fire_perimeter2(latlon,ring_data)\n",
    "    dist.append(distance)\n",
    "df['avg_distance (miles)'] = pd.Series(dist)\n",
    "df\n"
   ]
  },
  {
   "cell_type": "code",
   "execution_count": 30,
   "metadata": {},
   "outputs": [],
   "source": [
    "df.to_csv('full_dataset.csv', index=False)"
   ]
  },
  {
   "cell_type": "markdown",
   "metadata": {},
   "source": [
    "Here we only take in the fires whose centers are within 1250 miles from the city"
   ]
  },
  {
   "cell_type": "code",
   "execution_count": 31,
   "metadata": {},
   "outputs": [
    {
     "data": {
      "text/plain": [
       "(95064, 34)"
      ]
     },
     "execution_count": 31,
     "metadata": {},
     "output_type": "execute_result"
    }
   ],
   "source": [
    "df = df[df['avg_distance (miles)'] <= 1250]\n",
    "df.shape"
   ]
  },
  {
   "cell_type": "code",
   "execution_count": 32,
   "metadata": {},
   "outputs": [],
   "source": [
    "df.to_csv('city.csv', index=False)"
   ]
  }
 ],
 "metadata": {
  "kernelspec": {
   "display_name": "Python 3",
   "language": "python",
   "name": "python3"
  },
  "language_info": {
   "codemirror_mode": {
    "name": "ipython",
    "version": 3
   },
   "file_extension": ".py",
   "mimetype": "text/x-python",
   "name": "python",
   "nbconvert_exporter": "python",
   "pygments_lexer": "ipython3",
   "version": "3.10.0"
  },
  "orig_nbformat": 4
 },
 "nbformat": 4,
 "nbformat_minor": 2
}
